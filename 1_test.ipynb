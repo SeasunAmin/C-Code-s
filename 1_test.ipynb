{
  "nbformat": 4,
  "nbformat_minor": 0,
  "metadata": {
    "colab": {
      "provenance": [],
      "authorship_tag": "ABX9TyN5luTYhwrvk3LW4A9cUJOI",
      "include_colab_link": true
    },
    "kernelspec": {
      "name": "python3",
      "display_name": "Python 3"
    },
    "language_info": {
      "name": "python"
    }
  },
  "cells": [
    {
      "cell_type": "markdown",
      "metadata": {
        "id": "view-in-github",
        "colab_type": "text"
      },
      "source": [
        "<a href=\"https://colab.research.google.com/github/SeasunAmin/C-Code-s/blob/main/1_test.ipynb\" target=\"_parent\"><img src=\"https://colab.research.google.com/assets/colab-badge.svg\" alt=\"Open In Colab\"/></a>"
      ]
    },
    {
      "cell_type": "markdown",
      "source": [
        "\n",
        " **Testting**"
      ],
      "metadata": {
        "id": "w3sw814ZS1fV"
      }
    },
    {
      "cell_type": "markdown",
      "source": [
        "![33.png](data:image/png;base64,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)"
      ],
      "metadata": {
        "id": "Sw9kXWBWVGpX"
      }
    },
    {
      "cell_type": "code",
      "source": [
        "print(\"Hello all\")"
      ],
      "metadata": {
        "colab": {
          "base_uri": "https://localhost:8080/"
        },
        "id": "71shwIPVQ2F1",
        "outputId": "2b972a6e-ec95-4662-95ba-5a5f91553cbf"
      },
      "execution_count": null,
      "outputs": [
        {
          "output_type": "stream",
          "name": "stdout",
          "text": [
            "Hello all\n"
          ]
        }
      ]
    },
    {
      "cell_type": "code",
      "source": [
        "print(123)"
      ],
      "metadata": {
        "colab": {
          "base_uri": "https://localhost:8080/"
        },
        "id": "oD9umUOwSdNw",
        "outputId": "8ba27693-3391-499c-bc02-69874e81e9d0"
      },
      "execution_count": null,
      "outputs": [
        {
          "output_type": "stream",
          "name": "stdout",
          "text": [
            "123\n"
          ]
        }
      ]
    },
    {
      "cell_type": "code",
      "source": [],
      "metadata": {
        "id": "nm3-7jueSzZI"
      },
      "execution_count": null,
      "outputs": []
    }
  ]
}